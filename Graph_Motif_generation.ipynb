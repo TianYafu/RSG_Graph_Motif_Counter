{
 "cells": [
  {
   "cell_type": "code",
   "execution_count": 20,
   "metadata": {
    "collapsed": true
   },
   "outputs": [],
   "source": [
    "import networkx as nx\n",
    "import numpy as np\n",
    "from itertools import combinations"
   ]
  },
  {
   "cell_type": "code",
   "execution_count": null,
   "outputs": [],
   "source": [
    "def common_graph_motifs_undirected(n_nodes, ignore_unconnected_graph=True):\n",
    "    '''\n",
    "    Return lists of all common graph motifs which have <n_nodes> nodes.\n",
    "    Label of node will be like 0, 1, 2, 3, 4\n",
    "    :return: dict: { n_edges: list( nx.Graph() )}\n",
    "    '''\n",
    "    assert n_nodes <= 10 # or there will be too much\n",
    "    assert n_nodes > 2\n",
    "    ret_dict = {}\n",
    "\n",
    "    node_label_list = list(range(n_nodes))\n",
    "    print(\"node_label_list\", node_label_list)\n",
    "\n",
    "    node_combination = list(combinations(node_label_list, 2))\n",
    "    print(f\"got {len(node_combination)} node_combinations = \", node_combination)\n",
    "\n",
    "    min_n_edges, max_n_edges = n_nodes-1, int(n_nodes * (n_nodes-1) / 2)\n",
    "    for n_edge in range(min_n_edges, max_n_edges+1):\n",
    "        _temp_graph_list = []\n",
    "        print(f\"[info] generating motif with n_edge {n_edge} / {max_n_edges}\")  # generating motif with n_edge 4 / 10\n",
    "        edge_configuration = list(combinations(node_combination, n_edge))\n",
    "        print(f\"    got {len(edge_configuration)} graphs with n_edge = {n_edge}\")\n",
    "        # print(\"edge_configuration\", edge_configuration)\n",
    "        for i in edge_configuration:\n",
    "            G = nx.Graph()\n",
    "            G.add_nodes_from(node_label_list)\n",
    "            G.add_edges_from(i)\n",
    "            for _g in _temp_graph_list:\n",
    "                if(nx.is_isomorphic(G, _g)):\n",
    "                    break\n",
    "            else:\n",
    "                _temp_graph_list.append(G)\n",
    "\n",
    "        print(f\"[info] Add {len(_temp_graph_list)} graphs from n_edge = {n_edge}\")\n",
    "        ret_dict[n_edge] = _temp_graph_list\n",
    "\n",
    "    print(f\"[info] End generating common graph motif, size={n_nodes}, n_graphs={len(ret_dict)}\")\n",
    "    return ret_dict\n",
    "\n",
    "graphs_dict = common_graph_motifs_undirected(n_nodes=10, ignore_unconnected_graph=True)"
   ],
   "metadata": {
    "collapsed": false,
    "pycharm": {
     "is_executing": true
    }
   }
  },
  {
   "cell_type": "code",
   "execution_count": null,
   "outputs": [],
   "source": [],
   "metadata": {
    "collapsed": false
   }
  }
 ],
 "metadata": {
  "kernelspec": {
   "display_name": "Python 3",
   "language": "python",
   "name": "python3"
  },
  "language_info": {
   "codemirror_mode": {
    "name": "ipython",
    "version": 2
   },
   "file_extension": ".py",
   "mimetype": "text/x-python",
   "name": "python",
   "nbconvert_exporter": "python",
   "pygments_lexer": "ipython2",
   "version": "2.7.6"
  }
 },
 "nbformat": 4,
 "nbformat_minor": 0
}
